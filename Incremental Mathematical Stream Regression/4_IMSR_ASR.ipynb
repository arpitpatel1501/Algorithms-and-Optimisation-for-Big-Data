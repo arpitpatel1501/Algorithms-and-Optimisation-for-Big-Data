{
  "nbformat": 4,
  "nbformat_minor": 0,
  "metadata": {
    "kernelspec": {
      "display_name": "Python 3",
      "language": "python",
      "name": "python3"
    },
    "language_info": {
      "codemirror_mode": {
        "name": "ipython",
        "version": 3
      },
      "file_extension": ".py",
      "mimetype": "text/x-python",
      "name": "python",
      "nbconvert_exporter": "python",
      "pygments_lexer": "ipython3",
      "version": "3.5.2"
    },
    "colab": {
      "name": "4_IMSR_ASR.ipynb",
      "provenance": [],
      "collapsed_sections": []
    }
  },
  "cells": [
    {
      "cell_type": "markdown",
      "metadata": {
        "id": "houurOBxGoh8",
        "colab_type": "text"
      },
      "source": [
        "##Save boston dataset as a csv file"
      ]
    },
    {
      "cell_type": "code",
      "metadata": {
        "colab_type": "code",
        "outputId": "16c09400-034c-4222-aeea-5471e9d83987",
        "id": "g8PqVWYADyQs",
        "colab": {
          "base_uri": "https://localhost:8080/",
          "height": 68
        }
      },
      "source": [
        "#Saving boston dataset as a csv file\n",
        "import pandas as pd                               # import for dataframes\n",
        "import numpy as np                                # import for numerical opoeration\n",
        "from sklearn import datasets, metrics             # dataset and metrics for boston dataset and find the MAE, MSE respectively\n",
        "\n",
        "X, y = datasets.load_boston(return_X_y=True)      # read the boston dataset from sklearn datasets into X ans y\n",
        "print(\"X Shape:\", X.shape, \"y Shape:\", y.shape)   \n",
        "\n",
        "X_new=np.zeros((X.shape[0],X.shape[1]+1))\n",
        "X_new[:,0]=np.ones((X.shape[0]))                  # padded one dummy column in input dataset\n",
        "X_new[:,1:]=X\n",
        "X=X_new\n",
        "print(\"X Shape:\", X.shape, \"y Shape:\", y.shape) \n",
        "\n",
        "y=np.reshape(y,newshape=(y.shape[0],1))     \n",
        "boston=np.hstack((X,y))                           # combine the X and y for storing the data into CSV format\n",
        "print(\"Boston Shape\",boston.shape)\n",
        "boston=pd.DataFrame(boston)\n",
        "boston.to_csv('boston.csv', header='None', index=False) # store data into cvs file"
      ],
      "execution_count": 1,
      "outputs": [
        {
          "output_type": "stream",
          "text": [
            "X Shape: (506, 13) y Shape: (506,)\n",
            "X Shape: (506, 14) y Shape: (506,)\n",
            "Boston Shape (506, 15)\n"
          ],
          "name": "stdout"
        }
      ]
    },
    {
      "cell_type": "code",
      "metadata": {
        "id": "_Y8sNhUEDWlD",
        "colab_type": "code",
        "colab": {
          "base_uri": "https://localhost:8080/",
          "height": 34
        },
        "outputId": "400cad6c-dc33-4162-d745-a90688a525db"
      },
      "source": [
        "# Generate the steam data in 100 size window\n",
        "import pandas as pd\n",
        "from sklearn import datasets\n",
        "import numpy as np\n",
        "\n",
        "from numpy.linalg import inv, pinv, LinAlgError  # for finding the inverse of matrix\n",
        "\n",
        "\n",
        "count=0\n",
        "TEST_SPLIT = 0.8                    # split data into 80%, 20% into training and testind respectively\n",
        "\n",
        "dataframe=pd.read_csv(\"boston.csv\",header=None)\n",
        "dataframe=dataframe.values\n",
        "X_test=dataframe[int(len(dataframe)*TEST_SPLIT):,:-1]   # 20% of the data for testing\n",
        "y_test=dataframe[int(len(dataframe)*TEST_SPLIT):,-1]\n",
        "\n",
        "\n",
        "print('X_test shape:', X_test.shape, 'y_test shape:', y_test.shape)\n",
        "\n",
        "def myGeneratorfun(wsize=100):          # generator function for steaming the 100 data records window\n",
        "    print(\"In myGeneratorfun:\")\n",
        "    counter=0\n",
        "    for chunk in pd.read_csv('boston.csv', header=None, chunksize=wsize):  # 100 data records on each iteration\n",
        "        print(\"In for loop, counter vlaue is\", counter)     # for tracking the window number\n",
        "        chunk_array=chunk.values\n",
        "        counter=counter+1\n",
        "        yield (chunk_array[:,:-1], chunk_array[:,-1])       # yield or pass the window\n",
        "        if counter >= 4:                                    # only 4 window passed from the function\n",
        "            break\n",
        "    "
      ],
      "execution_count": 2,
      "outputs": [
        {
          "output_type": "stream",
          "text": [
            "X_test shape: (102, 14) y_test shape: (102,)\n"
          ],
          "name": "stdout"
        }
      ]
    },
    {
      "cell_type": "markdown",
      "metadata": {
        "id": "PmTj6wNhKiii",
        "colab_type": "text"
      },
      "source": [
        "Regression Parameter Beta:\n",
        ">$\\beta = (X^{T}X)^{-1}(X^{T}Y)$ \n",
        "\n",
        "\\\\\n",
        "Regression Parameter of kth window:\n",
        ">$\\beta_{k} = (X^{T}_{k}X_{k})^{-1} (X^{T}_{k}Y_{k})$\n",
        "\n",
        "\\\\\n",
        ">$(X^{T}X) = (X_{1}^{T}X_{1}) + (X_{2}^{T}X_{2})$\n",
        ">\n",
        ">$(X^{T}Y) = (X_{1}^{T}Y_{1}) + (X_{2}^{T}Y_{2})$\n",
        "\n",
        "\\\\\n",
        ">$\\beta_{k} = (M + X^{T}_{k}X_{k})^{-1} (V + X^{T}_{k}Y_{k})$"
      ]
    },
    {
      "cell_type": "markdown",
      "metadata": {
        "colab_type": "text",
        "id": "JXhX2xwHOCxc"
      },
      "source": [
        "where M is sum of X'X products and V is sum of X'y products"
      ]
    },
    {
      "cell_type": "markdown",
      "metadata": {
        "id": "24xNhhkAGq43",
        "colab_type": "text"
      },
      "source": [
        "# Incremental Mathematical Stream Regression (IMSR)\n"
      ]
    },
    {
      "cell_type": "code",
      "metadata": {
        "id": "EGYznnn8DWlu",
        "colab_type": "code",
        "colab": {
          "base_uri": "https://localhost:8080/",
          "height": 238
        },
        "outputId": "1dadf5b5-6ef1-4597-c952-dfee0cc8402e"
      },
      "source": [
        "\n",
        "myGenerator = myGeneratorfun(100)             # create instance of the generator function for window size 100x15\n",
        "\n",
        "M=np.zeros((X_test.shape[1],X_test.shape[1])) # Initialize the M and V, 14x14 matrix and 14x1 Vector respectively\n",
        "V=np.zeros((X_test.shape[1]))\n",
        "\n",
        "Beta=np.zeros(X_test.shape[1])                # Initialize the Beta parameter vector of 14x1\n",
        "\n",
        "for (x,y) in myGenerator:                     # X and y records for all windows size 100x15\n",
        "        \n",
        "    try:\n",
        "        XTXi=inv(M + np.dot(x.T,x))           # find the (X.T * X) and add the synopsis\n",
        "    except LinAlgError:\n",
        "        XTXi=pinv(M + np.dot(x.T,x))\n",
        "    \n",
        "    XTy=np.dot(x.T,y)                         # find the (X.T * y)\n",
        "    \n",
        "    Beta=np.dot(XTXi,(V + XTy))               # Parameter Vector with the synopsis\n",
        "\n",
        "    M=M+np.dot(x.T,x)                         # update the synopsis by adding the new windows records\n",
        "    V=V+XTy  \n",
        "\n",
        "    predictions=np.dot(Beta,X_test.T)         # predict the output of the testing input data values\n",
        "    print(\"MAE:\", metrics.mean_absolute_error(y_true=y_test,y_pred=predictions))  \n",
        "                                              # Mean Absolute Error by taking the absolute difference of the predicted output and the actuale output\n",
        "    print(\"MSE:\", metrics.mean_squared_error(y_true=y_test,y_pred=predictions))\n",
        "                                              # Mean Square Error by taking the Square of the difference of the predicted output and the actuale output"
      ],
      "execution_count": 3,
      "outputs": [
        {
          "output_type": "stream",
          "text": [
            "In myGeneratorfun:\n",
            "In for loop, counter vlaue is 0\n",
            "MAE: 36.15324862603779\n",
            "MSE: 3175.2416206240546\n",
            "In for loop, counter vlaue is 1\n",
            "MAE: 15.673355261936997\n",
            "MSE: 450.60629179045804\n",
            "In for loop, counter vlaue is 2\n",
            "MAE: 11.426050155717506\n",
            "MSE: 298.0762767454168\n",
            "In for loop, counter vlaue is 3\n",
            "MAE: 5.029922455033739\n",
            "MSE: 35.99837109197925\n"
          ],
          "name": "stdout"
        }
      ]
    },
    {
      "cell_type": "markdown",
      "metadata": {
        "id": "U9EtpO-hHzeH",
        "colab_type": "text"
      },
      "source": [
        "# Approximate Stream Regression (ASR)"
      ]
    },
    {
      "cell_type": "markdown",
      "metadata": {
        "id": "tb_4kx8zON5j",
        "colab_type": "text"
      },
      "source": [
        "Regression Parameter of kth window:\n",
        "> $\\beta_{k} = (1-\\alpha) \\ast \\beta_{k}^{'} + (\\alpha) \\ast \\beta_{k-1}$\n",
        ">>\n",
        ">> $\\alpha : $ Smoothing factor,  $0 \\leq alpha \\leq 1$\n",
        ">>\n",
        ">> $\\beta_{k}^{'} : $ Regression Parameter of kth window. considering only the datapoints into kth window\n",
        ">>\n",
        ">> $\\beta_{k-1} : $  Regression Parameter of kth window. considering all the data records seen up to (k-1)th window\n",
        ">>\n",
        ">> $\\beta_{k} : $  Regression Parameter of kth window. considering all the data records seen up to kth window\n",
        ">\n",
        "So Generalize equation can be:\n",
        ">\n",
        "> $\\beta_{k} = (1-\\alpha) \\ast \\beta_{k}^{'} + \t\\cdots + ( 1 - \\alpha) (\\alpha)^{j} \\ast \\beta_{k-j} + \\cdots + (\\alpha)^{k} \\ast \\beta_{1} $"
      ]
    },
    {
      "cell_type": "code",
      "metadata": {
        "id": "g3jIOs8PDWmB",
        "colab_type": "code",
        "colab": {
          "base_uri": "https://localhost:8080/",
          "height": 238
        },
        "outputId": "a828c342-b379-43f9-a347-cf76854fe263"
      },
      "source": [
        "myGenerator = myGeneratorfun(100)             # create instance of the generator function for window size 100x15\n",
        "\n",
        "Beta=np.zeros(X_test.shape[1])                # Initialize the Beta parameter vector of 14x1\n",
        "alpha = 0.5                                   # Alpha is weight for the synopsis\n",
        "\n",
        "for (x,y) in myGenerator:                     # X and y records for all windows size 100x15\n",
        "        \n",
        "    try:\n",
        "        XTXi=inv(np.dot(x.T,x))               # find the (X.T * X)\n",
        "    except LinAlgError:\n",
        "        XTXi=pinv(np.dot(x.T,x))              # if the inverse not possible possible eg. if the matrix is not square\n",
        "    \n",
        "    XTy=np.dot(x.T,y)                         # find the (X.T * y)    \n",
        "    \n",
        "    Beta = (1-alpha)*np.dot(XTXi,XTy) + alpha*Beta # Parameter vector using the past synopsis\n",
        "  \n",
        "    predictions=np.dot(Beta,X_test.T)         # predict the output of the testing input data values\n",
        "    print(\"MAE:\", metrics.mean_absolute_error(y_true=y_test,y_pred=predictions))  \n",
        "                                              # Mean Absolute Error by taking the absolute difference of the predicted output and the actuale output\n",
        "    print(\"MSE:\", metrics.mean_squared_error(y_true=y_test,y_pred=predictions))\n",
        "                                              # Mean Square Error by taking the Square of the difference of the predicted output and the actuale output"
      ],
      "execution_count": 3,
      "outputs": [
        {
          "output_type": "stream",
          "text": [
            "In myGeneratorfun:\n",
            "In for loop, counter vlaue is 0\n",
            "MAE: 25.776615446313453\n",
            "MSE: 1106.5043065116856\n",
            "In for loop, counter vlaue is 1\n",
            "MAE: 4.179934752313517\n",
            "MSE: 29.069806857594916\n",
            "In for loop, counter vlaue is 2\n",
            "MAE: 4.355565299858502\n",
            "MSE: 29.237668219693823\n",
            "In for loop, counter vlaue is 3\n",
            "MAE: 3.186689700466384\n",
            "MSE: 17.662801123398765\n"
          ],
          "name": "stdout"
        }
      ]
    },
    {
      "cell_type": "markdown",
      "metadata": {
        "id": "XbY8eBENRrWT",
        "colab_type": "text"
      },
      "source": [
        "**As we compare the both Mean Absolute Eroor (MAE) and Mean Square Error (MSE) in case of ISMR and ASR. The value of error in ASR much better than ICMR.**"
      ]
    },
    {
      "cell_type": "code",
      "metadata": {
        "id": "yxGzcH-WSbW4",
        "colab_type": "code",
        "colab": {}
      },
      "source": [
        ""
      ],
      "execution_count": 0,
      "outputs": []
    }
  ]
}
